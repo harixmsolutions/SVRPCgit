{
 "cells": [
  {
   "cell_type": "code",
   "execution_count": null,
   "metadata": {},
   "outputs": [],
   "source": [
    "import boto3\n",
    "\n",
    "print(\"Building container...\")\n",
    "\n",
    "region = boto3.session.Session().region_name\n",
    "account_id = boto3.client('sts').get_caller_identity().get('Account')\n",
    "ecr_repository = 'sagemaker-processing-container-for-ga'\n",
    "tag = ':latest'\n",
    "base_uri = '{}.dkr.ecr.{}.amazonaws.com'.format(account_id, region)\n",
    "repo_uri = '{}/{}'.format(base_uri, ecr_repository + tag)\n",
    "\n",
    "# Create ECR repository and push docker image\n",
    "!docker build -t $ecr_repository docker\n",
    "!aws ecr get-login-password --region $region | docker login --username AWS --password-stdin $base_uri\n",
    "!aws ecr create-repository --repository-name $ecr_repository\n",
    "!docker tag {ecr_repository + tag} $repo_uri\n",
    "!docker push $repo_uri\n",
    "\n",
    "print(\"Container Build done\")\n",
    "\n",
    "iam_role = 'arn:aws:iam::897691971299:role/SVRPC-CloudFormation-Stacks-GAexecutionRole-E5SRAUGIP4ZZ'"
   ]
  }
 ],
 "metadata": {
  "language_info": {
   "name": "python"
  },
  "orig_nbformat": 4
 },
 "nbformat": 4,
 "nbformat_minor": 2
}
